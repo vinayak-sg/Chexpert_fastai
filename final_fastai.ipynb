{
  "nbformat": 4,
  "nbformat_minor": 0,
  "metadata": {
    "colab": {
      "name": "final_fastai.ipynb",
      "version": "0.3.2",
      "provenance": [],
      "toc_visible": true
    },
    "kernelspec": {
      "name": "python3",
      "display_name": "Python 3"
    },
    "accelerator": "GPU"
  },
  "cells": [
    {
      "cell_type": "code",
      "metadata": {
        "id": "oYLGSv-h2Zg5",
        "colab_type": "code",
        "colab": {}
      },
      "source": [
        "import warnings\n",
        "warnings.filterwarnings('ignore')"
      ],
      "execution_count": 0,
      "outputs": []
    },
    {
      "cell_type": "code",
      "metadata": {
        "id": "tO69QQd72fs4",
        "colab_type": "code",
        "colab": {}
      },
      "source": [
        "%reload_ext autoreload\n",
        "%autoreload 2\n",
        "%matplotlib inline"
      ],
      "execution_count": 0,
      "outputs": []
    },
    {
      "cell_type": "code",
      "metadata": {
        "id": "0BlYyaSK2iE8",
        "colab_type": "code",
        "colab": {}
      },
      "source": [
        "from fastai.vision import *\n",
        "from torchvision.models import *\n",
        "import yaml\n",
        "import pandas as pd\n",
        "import datetime\n",
        "\n",
        "from sklearn.metrics import roc_auc_score"
      ],
      "execution_count": 0,
      "outputs": []
    },
    {
      "cell_type": "code",
      "metadata": {
        "id": "fUFQGB98Sm9R",
        "colab_type": "code",
        "colab": {
          "base_uri": "https://localhost:8080/",
          "height": 189
        },
        "outputId": "118c437c-4a60-45d0-f4bf-e4e26405358e"
      },
      "source": [
        "from google.colab import drive\n",
        "drive.mount('/gdrive')"
      ],
      "execution_count": 4,
      "outputs": [
        {
          "output_type": "stream",
          "text": [
            "Go to this URL in a browser: https://accounts.google.com/o/oauth2/auth?client_id=947318989803-6bn6qk8qdgf4n4g3pfee6491hc0brc4i.apps.googleusercontent.com&redirect_uri=urn%3Aietf%3Awg%3Aoauth%3A2.0%3Aoob&scope=email%20https%3A%2F%2Fwww.googleapis.com%2Fauth%2Fdocs.test%20https%3A%2F%2Fwww.googleapis.com%2Fauth%2Fdrive%20https%3A%2F%2Fwww.googleapis.com%2Fauth%2Fdrive.photos.readonly%20https%3A%2F%2Fwww.googleapis.com%2Fauth%2Fpeopleapi.readonly&response_type=code\n",
            "\n",
            "Enter your authorization code:\n",
            "··········\n",
            "Mounted at /gdrive\n"
          ],
          "name": "stdout"
        }
      ]
    },
    {
      "cell_type": "code",
      "metadata": {
        "id": "azsxPU7gW-4d",
        "colab_type": "code",
        "colab": {}
      },
      "source": [
        "cp -f /gdrive/My\\ Drive/Colab-Notebooks/fastai/colab.zip ."
      ],
      "execution_count": 0,
      "outputs": []
    },
    {
      "cell_type": "code",
      "metadata": {
        "id": "YYpzIY3k2kN9",
        "colab_type": "code",
        "colab": {}
      },
      "source": [
        "# !wget http://download.cs.stanford.edu/deep/CheXpert-v1.0-small.zip"
      ],
      "execution_count": 0,
      "outputs": []
    },
    {
      "cell_type": "code",
      "metadata": {
        "id": "5QyN7Yce2nw7",
        "colab_type": "code",
        "colab": {}
      },
      "source": [
        "from pathlib import Path\n",
        "import shutil\n",
        "import zipfile\n",
        "import yaml"
      ],
      "execution_count": 0,
      "outputs": []
    },
    {
      "cell_type": "code",
      "metadata": {
        "id": "2alSm0Nk2zhF",
        "colab_type": "code",
        "colab": {}
      },
      "source": [
        "zip = zipfile.ZipFile('./colab.zip')\n",
        "zip.extractall('./data')\n",
        "zip.close()"
      ],
      "execution_count": 0,
      "outputs": []
    },
    {
      "cell_type": "markdown",
      "metadata": {
        "id": "dp_XxROO_5Rg",
        "colab_type": "text"
      },
      "source": [
        " **Load configuration with local path and url for dataset**"
      ]
    },
    {
      "cell_type": "code",
      "metadata": {
        "id": "pXtx1Hk822c_",
        "colab_type": "code",
        "colab": {}
      },
      "source": [
        "data_path = './data'"
      ],
      "execution_count": 0,
      "outputs": []
    },
    {
      "cell_type": "markdown",
      "metadata": {
        "id": "oCrtcw3cASN2",
        "colab_type": "text"
      },
      "source": [
        "**Load Data**"
      ]
    },
    {
      "cell_type": "code",
      "metadata": {
        "id": "x4YBqrGYAFZC",
        "colab_type": "code",
        "colab": {}
      },
      "source": [
        "full_train_df = pd.read_csv('./data/colab/train.csv')\n",
        "full_valid_df = pd.read_csv('./data/colab/valid.csv')"
      ],
      "execution_count": 0,
      "outputs": []
    },
    {
      "cell_type": "code",
      "metadata": {
        "id": "Ce_278CJEHfM",
        "colab_type": "code",
        "colab": {
          "base_uri": "https://localhost:8080/",
          "height": 346
        },
        "outputId": "c29efed5-c10e-4870-f36a-2904fecd0e56"
      },
      "source": [
        "full_train_df.head()"
      ],
      "execution_count": 102,
      "outputs": [
        {
          "output_type": "execute_result",
          "data": {
            "text/html": [
              "<div>\n",
              "<style scoped>\n",
              "    .dataframe tbody tr th:only-of-type {\n",
              "        vertical-align: middle;\n",
              "    }\n",
              "\n",
              "    .dataframe tbody tr th {\n",
              "        vertical-align: top;\n",
              "    }\n",
              "\n",
              "    .dataframe thead th {\n",
              "        text-align: right;\n",
              "    }\n",
              "</style>\n",
              "<table border=\"1\" class=\"dataframe\">\n",
              "  <thead>\n",
              "    <tr style=\"text-align: right;\">\n",
              "      <th></th>\n",
              "      <th>Path</th>\n",
              "      <th>Sex</th>\n",
              "      <th>Age</th>\n",
              "      <th>Frontal/Lateral</th>\n",
              "      <th>AP/PA</th>\n",
              "      <th>No Finding</th>\n",
              "      <th>Enlarged Cardiomediastinum</th>\n",
              "      <th>Cardiomegaly</th>\n",
              "      <th>Lung Opacity</th>\n",
              "      <th>Lung Lesion</th>\n",
              "      <th>Edema</th>\n",
              "      <th>Consolidation</th>\n",
              "      <th>Pneumonia</th>\n",
              "      <th>Atelectasis</th>\n",
              "      <th>Pneumothorax</th>\n",
              "      <th>Pleural Effusion</th>\n",
              "      <th>Pleural Other</th>\n",
              "      <th>Fracture</th>\n",
              "      <th>Support Devices</th>\n",
              "      <th>train_valid</th>\n",
              "      <th>patient</th>\n",
              "      <th>study</th>\n",
              "    </tr>\n",
              "  </thead>\n",
              "  <tbody>\n",
              "    <tr>\n",
              "      <th>0</th>\n",
              "      <td>CheXpert-v1.0-small/train/patient00001/study1/...</td>\n",
              "      <td>Female</td>\n",
              "      <td>68</td>\n",
              "      <td>Frontal</td>\n",
              "      <td>AP</td>\n",
              "      <td>1.0</td>\n",
              "      <td>NaN</td>\n",
              "      <td>NaN</td>\n",
              "      <td>NaN</td>\n",
              "      <td>NaN</td>\n",
              "      <td>NaN</td>\n",
              "      <td>NaN</td>\n",
              "      <td>NaN</td>\n",
              "      <td>NaN</td>\n",
              "      <td>0.0</td>\n",
              "      <td>NaN</td>\n",
              "      <td>NaN</td>\n",
              "      <td>NaN</td>\n",
              "      <td>1.0</td>\n",
              "      <td>False</td>\n",
              "      <td>patient00001</td>\n",
              "      <td>study1</td>\n",
              "    </tr>\n",
              "    <tr>\n",
              "      <th>1</th>\n",
              "      <td>CheXpert-v1.0-small/train/patient00002/study2/...</td>\n",
              "      <td>Female</td>\n",
              "      <td>87</td>\n",
              "      <td>Frontal</td>\n",
              "      <td>AP</td>\n",
              "      <td>NaN</td>\n",
              "      <td>NaN</td>\n",
              "      <td>-1.0</td>\n",
              "      <td>1.0</td>\n",
              "      <td>NaN</td>\n",
              "      <td>-1.0</td>\n",
              "      <td>-1.0</td>\n",
              "      <td>NaN</td>\n",
              "      <td>-1.0</td>\n",
              "      <td>NaN</td>\n",
              "      <td>-1.0</td>\n",
              "      <td>NaN</td>\n",
              "      <td>1.0</td>\n",
              "      <td>NaN</td>\n",
              "      <td>False</td>\n",
              "      <td>patient00002</td>\n",
              "      <td>study2</td>\n",
              "    </tr>\n",
              "    <tr>\n",
              "      <th>2</th>\n",
              "      <td>CheXpert-v1.0-small/train/patient00002/study1/...</td>\n",
              "      <td>Female</td>\n",
              "      <td>83</td>\n",
              "      <td>Frontal</td>\n",
              "      <td>AP</td>\n",
              "      <td>NaN</td>\n",
              "      <td>NaN</td>\n",
              "      <td>NaN</td>\n",
              "      <td>1.0</td>\n",
              "      <td>NaN</td>\n",
              "      <td>NaN</td>\n",
              "      <td>-1.0</td>\n",
              "      <td>NaN</td>\n",
              "      <td>NaN</td>\n",
              "      <td>NaN</td>\n",
              "      <td>NaN</td>\n",
              "      <td>NaN</td>\n",
              "      <td>1.0</td>\n",
              "      <td>NaN</td>\n",
              "      <td>False</td>\n",
              "      <td>patient00002</td>\n",
              "      <td>study1</td>\n",
              "    </tr>\n",
              "    <tr>\n",
              "      <th>3</th>\n",
              "      <td>CheXpert-v1.0-small/train/patient00002/study1/...</td>\n",
              "      <td>Female</td>\n",
              "      <td>83</td>\n",
              "      <td>Lateral</td>\n",
              "      <td>NaN</td>\n",
              "      <td>NaN</td>\n",
              "      <td>NaN</td>\n",
              "      <td>NaN</td>\n",
              "      <td>1.0</td>\n",
              "      <td>NaN</td>\n",
              "      <td>NaN</td>\n",
              "      <td>-1.0</td>\n",
              "      <td>NaN</td>\n",
              "      <td>NaN</td>\n",
              "      <td>NaN</td>\n",
              "      <td>NaN</td>\n",
              "      <td>NaN</td>\n",
              "      <td>1.0</td>\n",
              "      <td>NaN</td>\n",
              "      <td>False</td>\n",
              "      <td>patient00002</td>\n",
              "      <td>study1</td>\n",
              "    </tr>\n",
              "    <tr>\n",
              "      <th>4</th>\n",
              "      <td>CheXpert-v1.0-small/train/patient00003/study1/...</td>\n",
              "      <td>Male</td>\n",
              "      <td>41</td>\n",
              "      <td>Frontal</td>\n",
              "      <td>AP</td>\n",
              "      <td>NaN</td>\n",
              "      <td>NaN</td>\n",
              "      <td>NaN</td>\n",
              "      <td>NaN</td>\n",
              "      <td>NaN</td>\n",
              "      <td>1.0</td>\n",
              "      <td>NaN</td>\n",
              "      <td>NaN</td>\n",
              "      <td>NaN</td>\n",
              "      <td>0.0</td>\n",
              "      <td>NaN</td>\n",
              "      <td>NaN</td>\n",
              "      <td>NaN</td>\n",
              "      <td>NaN</td>\n",
              "      <td>False</td>\n",
              "      <td>patient00003</td>\n",
              "      <td>study1</td>\n",
              "    </tr>\n",
              "  </tbody>\n",
              "</table>\n",
              "</div>"
            ],
            "text/plain": [
              "                                                Path  ...   study\n",
              "0  CheXpert-v1.0-small/train/patient00001/study1/...  ...  study1\n",
              "1  CheXpert-v1.0-small/train/patient00002/study2/...  ...  study2\n",
              "2  CheXpert-v1.0-small/train/patient00002/study1/...  ...  study1\n",
              "3  CheXpert-v1.0-small/train/patient00002/study1/...  ...  study1\n",
              "4  CheXpert-v1.0-small/train/patient00003/study1/...  ...  study1\n",
              "\n",
              "[5 rows x 22 columns]"
            ]
          },
          "metadata": {
            "tags": []
          },
          "execution_count": 102
        }
      ]
    },
    {
      "cell_type": "code",
      "metadata": {
        "id": "mAkD4AaF_VFW",
        "colab_type": "code",
        "colab": {
          "base_uri": "https://localhost:8080/",
          "height": 346
        },
        "outputId": "1c72f2b6-c76a-415a-8d96-66a65f56a993"
      },
      "source": [
        "full_valid_df.head()"
      ],
      "execution_count": 103,
      "outputs": [
        {
          "output_type": "execute_result",
          "data": {
            "text/html": [
              "<div>\n",
              "<style scoped>\n",
              "    .dataframe tbody tr th:only-of-type {\n",
              "        vertical-align: middle;\n",
              "    }\n",
              "\n",
              "    .dataframe tbody tr th {\n",
              "        vertical-align: top;\n",
              "    }\n",
              "\n",
              "    .dataframe thead th {\n",
              "        text-align: right;\n",
              "    }\n",
              "</style>\n",
              "<table border=\"1\" class=\"dataframe\">\n",
              "  <thead>\n",
              "    <tr style=\"text-align: right;\">\n",
              "      <th></th>\n",
              "      <th>Path</th>\n",
              "      <th>Sex</th>\n",
              "      <th>Age</th>\n",
              "      <th>Frontal/Lateral</th>\n",
              "      <th>AP/PA</th>\n",
              "      <th>No Finding</th>\n",
              "      <th>Enlarged Cardiomediastinum</th>\n",
              "      <th>Cardiomegaly</th>\n",
              "      <th>Lung Opacity</th>\n",
              "      <th>Lung Lesion</th>\n",
              "      <th>Edema</th>\n",
              "      <th>Consolidation</th>\n",
              "      <th>Pneumonia</th>\n",
              "      <th>Atelectasis</th>\n",
              "      <th>Pneumothorax</th>\n",
              "      <th>Pleural Effusion</th>\n",
              "      <th>Pleural Other</th>\n",
              "      <th>Fracture</th>\n",
              "      <th>Support Devices</th>\n",
              "      <th>train_valid</th>\n",
              "      <th>patient</th>\n",
              "      <th>study</th>\n",
              "    </tr>\n",
              "  </thead>\n",
              "  <tbody>\n",
              "    <tr>\n",
              "      <th>0</th>\n",
              "      <td>CheXpert-v1.0-small/valid/patient64541/study1/...</td>\n",
              "      <td>Male</td>\n",
              "      <td>73</td>\n",
              "      <td>Frontal</td>\n",
              "      <td>AP</td>\n",
              "      <td>0.0</td>\n",
              "      <td>1.0</td>\n",
              "      <td>1.0</td>\n",
              "      <td>1.0</td>\n",
              "      <td>0.0</td>\n",
              "      <td>0.0</td>\n",
              "      <td>0.0</td>\n",
              "      <td>0.0</td>\n",
              "      <td>0.0</td>\n",
              "      <td>0.0</td>\n",
              "      <td>0.0</td>\n",
              "      <td>0.0</td>\n",
              "      <td>0.0</td>\n",
              "      <td>0.0</td>\n",
              "      <td>True</td>\n",
              "      <td>patient64541</td>\n",
              "      <td>study1</td>\n",
              "    </tr>\n",
              "    <tr>\n",
              "      <th>1</th>\n",
              "      <td>CheXpert-v1.0-small/valid/patient64542/study1/...</td>\n",
              "      <td>Male</td>\n",
              "      <td>70</td>\n",
              "      <td>Frontal</td>\n",
              "      <td>PA</td>\n",
              "      <td>0.0</td>\n",
              "      <td>0.0</td>\n",
              "      <td>0.0</td>\n",
              "      <td>0.0</td>\n",
              "      <td>0.0</td>\n",
              "      <td>0.0</td>\n",
              "      <td>0.0</td>\n",
              "      <td>0.0</td>\n",
              "      <td>0.0</td>\n",
              "      <td>0.0</td>\n",
              "      <td>0.0</td>\n",
              "      <td>0.0</td>\n",
              "      <td>0.0</td>\n",
              "      <td>1.0</td>\n",
              "      <td>True</td>\n",
              "      <td>patient64542</td>\n",
              "      <td>study1</td>\n",
              "    </tr>\n",
              "    <tr>\n",
              "      <th>2</th>\n",
              "      <td>CheXpert-v1.0-small/valid/patient64542/study1/...</td>\n",
              "      <td>Male</td>\n",
              "      <td>70</td>\n",
              "      <td>Lateral</td>\n",
              "      <td>NaN</td>\n",
              "      <td>0.0</td>\n",
              "      <td>0.0</td>\n",
              "      <td>0.0</td>\n",
              "      <td>0.0</td>\n",
              "      <td>0.0</td>\n",
              "      <td>0.0</td>\n",
              "      <td>0.0</td>\n",
              "      <td>0.0</td>\n",
              "      <td>0.0</td>\n",
              "      <td>0.0</td>\n",
              "      <td>0.0</td>\n",
              "      <td>0.0</td>\n",
              "      <td>0.0</td>\n",
              "      <td>1.0</td>\n",
              "      <td>True</td>\n",
              "      <td>patient64542</td>\n",
              "      <td>study1</td>\n",
              "    </tr>\n",
              "    <tr>\n",
              "      <th>3</th>\n",
              "      <td>CheXpert-v1.0-small/valid/patient64543/study1/...</td>\n",
              "      <td>Male</td>\n",
              "      <td>85</td>\n",
              "      <td>Frontal</td>\n",
              "      <td>AP</td>\n",
              "      <td>0.0</td>\n",
              "      <td>1.0</td>\n",
              "      <td>0.0</td>\n",
              "      <td>1.0</td>\n",
              "      <td>0.0</td>\n",
              "      <td>1.0</td>\n",
              "      <td>0.0</td>\n",
              "      <td>0.0</td>\n",
              "      <td>0.0</td>\n",
              "      <td>0.0</td>\n",
              "      <td>0.0</td>\n",
              "      <td>0.0</td>\n",
              "      <td>0.0</td>\n",
              "      <td>0.0</td>\n",
              "      <td>True</td>\n",
              "      <td>patient64543</td>\n",
              "      <td>study1</td>\n",
              "    </tr>\n",
              "    <tr>\n",
              "      <th>4</th>\n",
              "      <td>CheXpert-v1.0-small/valid/patient64544/study1/...</td>\n",
              "      <td>Female</td>\n",
              "      <td>42</td>\n",
              "      <td>Frontal</td>\n",
              "      <td>AP</td>\n",
              "      <td>1.0</td>\n",
              "      <td>0.0</td>\n",
              "      <td>0.0</td>\n",
              "      <td>0.0</td>\n",
              "      <td>0.0</td>\n",
              "      <td>0.0</td>\n",
              "      <td>0.0</td>\n",
              "      <td>0.0</td>\n",
              "      <td>0.0</td>\n",
              "      <td>0.0</td>\n",
              "      <td>0.0</td>\n",
              "      <td>0.0</td>\n",
              "      <td>0.0</td>\n",
              "      <td>0.0</td>\n",
              "      <td>True</td>\n",
              "      <td>patient64544</td>\n",
              "      <td>study1</td>\n",
              "    </tr>\n",
              "  </tbody>\n",
              "</table>\n",
              "</div>"
            ],
            "text/plain": [
              "                                                Path  ...   study\n",
              "0  CheXpert-v1.0-small/valid/patient64541/study1/...  ...  study1\n",
              "1  CheXpert-v1.0-small/valid/patient64542/study1/...  ...  study1\n",
              "2  CheXpert-v1.0-small/valid/patient64542/study1/...  ...  study1\n",
              "3  CheXpert-v1.0-small/valid/patient64543/study1/...  ...  study1\n",
              "4  CheXpert-v1.0-small/valid/patient64544/study1/...  ...  study1\n",
              "\n",
              "[5 rows x 22 columns]"
            ]
          },
          "metadata": {
            "tags": []
          },
          "execution_count": 103
        }
      ]
    },
    {
      "cell_type": "code",
      "metadata": {
        "id": "m5DCQ-yBAcC5",
        "colab_type": "code",
        "colab": {}
      },
      "source": [
        "chexnet_targets = ['No Finding',\n",
        "       'Enlarged Cardiomediastinum', 'Cardiomegaly', 'Lung Opacity',\n",
        "       'Lung Lesion', 'Edema', 'Consolidation', 'Pneumonia', 'Atelectasis',\n",
        "       'Pneumothorax', 'Pleural Effusion', 'Pleural Other', 'Fracture',\n",
        "       'Support Devices']\n",
        "\n",
        "chexpert_targets = ['Atelectasis', 'Cardiomegaly', 'Consolidation', 'Edema', 'Pleural Effusion']"
      ],
      "execution_count": 0,
      "outputs": []
    },
    {
      "cell_type": "markdown",
      "metadata": {
        "id": "-mCLerG5AoHV",
        "colab_type": "text"
      },
      "source": [
        "**Uncertainty Approaches**\n",
        "\n",
        "The CheXpert paper outlines several different approaches to mapping using the uncertainty labels in the data:\n",
        "\n",
        "\n",
        "\n",
        "*   Ignoring - essentially removing from the calculation in the loss function\n",
        "*   Binary mapping - sending uncertain values to either 0 or 1\n",
        "*   Prevalence mapping - use the rate of prevelance of the feature as it's target value\n",
        "*   Self-training - consider the uncertain values as unlabeled\n",
        "*   3-Class Classification - retain a separate value for uncertain and try to predict it as a class in its          own right\n",
        "\n",
        "\n",
        "The paper gives the results of different experiments with the above approaches and indicates the most accurate approach for each feature.\n",
        "\n",
        "\n",
        "\n",
        "Approach/Feature    Atelectasis\t   Cardiomegaly\t   Consolidation\t   Edema\t   PleuralEffusion\n",
        "\n",
        "U-Ignore\t0.818(0.759,0.877)\t0.828(0.769,0.888)\t0.938(0.905,0.970)\t0.934(0.893,0.975)\n",
        "0.928(0.894,0.962)\n",
        "\n",
        "U-Zeros\t            0.811(0.751,0.872)\t0.840(0.783,0.897)\t0.932(0.898,0.966)\t0.929(0.888,0.970)\t0.931(0.897,0.965)\n",
        "\n",
        "U-Ones\t0.858(0.806,0.910)\t0.832(0.773,0.890)\t0.899(0.854,0.944)\t0.941(0.903,0.980)\t0.934(0.901,0.967)\n",
        "\n",
        "U-Mean\t0.821(0.762,0.879)\t0.832(0.771,0.892)\t0.937(0.905,0.969)\t0.939(0.902,0.975)\t0.930(0.896,0.965)\n",
        "\n",
        "U-SelfTrained\t0.833(0.776,0.890)\t0.831(0.770,0.891)\t0.939(0.908,0.971)\t0.935(0.896,0.974)\t0.932(0.899,0.966)\n",
        "\n",
        "U-MultiClass\t0.821(0.763,0.879)\t0.854(0.800,0.909)\t0.937(0.905,0.969)\t0.928(0.887,0.968)\t0.936(0.904,0.967)\n",
        "\n",
        "\n",
        "The binary mapping approaches (U-Ones and U-Zeros) are easiest to implement and so to begin with we take the best option between U-Ones and U-Zeros for each feature\n",
        "\n",
        "*   Atelectasis U-Ones\n",
        "*   Cardiomegaly U-Zeros\n",
        "*  Consolidation U-Zeros\n",
        "*   Edema U-Ones\n",
        "*   Pleural Effusion U-Zeros"
      ]
    },
    {
      "cell_type": "code",
      "metadata": {
        "id": "rsFRBdN6AjDA",
        "colab_type": "code",
        "colab": {}
      },
      "source": [
        "u_one_features = ['Atelectasis', 'Edema']\n",
        "u_zero_features = ['Cardiomegaly', 'Consolidation', 'Pleural Effusion']"
      ],
      "execution_count": 0,
      "outputs": []
    },
    {
      "cell_type": "code",
      "metadata": {
        "id": "S3rSg6LxDVXO",
        "colab_type": "code",
        "colab": {}
      },
      "source": [
        "def feature_string(row):\n",
        "    feature_list = []\n",
        "    for feature in u_one_features:\n",
        "        if row[feature] in [-1,1]:\n",
        "            feature_list.append(feature)\n",
        "            \n",
        "    for feature in u_zero_features:\n",
        "        if row[feature] == 1:\n",
        "            feature_list.append(feature)\n",
        "            \n",
        "    return ';'.join(feature_list)"
      ],
      "execution_count": 0,
      "outputs": []
    },
    {
      "cell_type": "code",
      "metadata": {
        "id": "BfY8csFeDhJN",
        "colab_type": "code",
        "colab": {}
      },
      "source": [
        "full_train_df['train_valid'] = False\n",
        "full_valid_df['train_valid'] = True"
      ],
      "execution_count": 0,
      "outputs": []
    },
    {
      "cell_type": "markdown",
      "metadata": {
        "id": "Ukgx3-0lDpFi",
        "colab_type": "text"
      },
      "source": [
        "**Create patient and study columns**"
      ]
    },
    {
      "cell_type": "code",
      "metadata": {
        "id": "KVh9G8cPDkNG",
        "colab_type": "code",
        "colab": {}
      },
      "source": [
        "full_train_df['patient'] = full_train_df.Path.str.split('/',3,True)[2]\n",
        "full_train_df  ['study'] = full_train_df.Path.str.split('/',4,True)[3]\n",
        "\n",
        "full_valid_df['patient'] = full_valid_df.Path.str.split('/',3,True)[2]\n",
        "full_valid_df  ['study'] = full_valid_df.Path.str.split('/',4,True)[3]"
      ],
      "execution_count": 0,
      "outputs": []
    },
    {
      "cell_type": "code",
      "metadata": {
        "id": "P4eSWfLtDuD7",
        "colab_type": "code",
        "colab": {
          "base_uri": "https://localhost:8080/",
          "height": 346
        },
        "outputId": "be62b8d1-a0d4-46f9-f8d7-aa782de6b7c1"
      },
      "source": [
        "full_train_df.head()"
      ],
      "execution_count": 109,
      "outputs": [
        {
          "output_type": "execute_result",
          "data": {
            "text/html": [
              "<div>\n",
              "<style scoped>\n",
              "    .dataframe tbody tr th:only-of-type {\n",
              "        vertical-align: middle;\n",
              "    }\n",
              "\n",
              "    .dataframe tbody tr th {\n",
              "        vertical-align: top;\n",
              "    }\n",
              "\n",
              "    .dataframe thead th {\n",
              "        text-align: right;\n",
              "    }\n",
              "</style>\n",
              "<table border=\"1\" class=\"dataframe\">\n",
              "  <thead>\n",
              "    <tr style=\"text-align: right;\">\n",
              "      <th></th>\n",
              "      <th>Path</th>\n",
              "      <th>Sex</th>\n",
              "      <th>Age</th>\n",
              "      <th>Frontal/Lateral</th>\n",
              "      <th>AP/PA</th>\n",
              "      <th>No Finding</th>\n",
              "      <th>Enlarged Cardiomediastinum</th>\n",
              "      <th>Cardiomegaly</th>\n",
              "      <th>Lung Opacity</th>\n",
              "      <th>Lung Lesion</th>\n",
              "      <th>Edema</th>\n",
              "      <th>Consolidation</th>\n",
              "      <th>Pneumonia</th>\n",
              "      <th>Atelectasis</th>\n",
              "      <th>Pneumothorax</th>\n",
              "      <th>Pleural Effusion</th>\n",
              "      <th>Pleural Other</th>\n",
              "      <th>Fracture</th>\n",
              "      <th>Support Devices</th>\n",
              "      <th>train_valid</th>\n",
              "      <th>patient</th>\n",
              "      <th>study</th>\n",
              "    </tr>\n",
              "  </thead>\n",
              "  <tbody>\n",
              "    <tr>\n",
              "      <th>0</th>\n",
              "      <td>CheXpert-v1.0-small/train/patient00001/study1/...</td>\n",
              "      <td>Female</td>\n",
              "      <td>68</td>\n",
              "      <td>Frontal</td>\n",
              "      <td>AP</td>\n",
              "      <td>1.0</td>\n",
              "      <td>NaN</td>\n",
              "      <td>NaN</td>\n",
              "      <td>NaN</td>\n",
              "      <td>NaN</td>\n",
              "      <td>NaN</td>\n",
              "      <td>NaN</td>\n",
              "      <td>NaN</td>\n",
              "      <td>NaN</td>\n",
              "      <td>0.0</td>\n",
              "      <td>NaN</td>\n",
              "      <td>NaN</td>\n",
              "      <td>NaN</td>\n",
              "      <td>1.0</td>\n",
              "      <td>False</td>\n",
              "      <td>patient00001</td>\n",
              "      <td>study1</td>\n",
              "    </tr>\n",
              "    <tr>\n",
              "      <th>1</th>\n",
              "      <td>CheXpert-v1.0-small/train/patient00002/study2/...</td>\n",
              "      <td>Female</td>\n",
              "      <td>87</td>\n",
              "      <td>Frontal</td>\n",
              "      <td>AP</td>\n",
              "      <td>NaN</td>\n",
              "      <td>NaN</td>\n",
              "      <td>-1.0</td>\n",
              "      <td>1.0</td>\n",
              "      <td>NaN</td>\n",
              "      <td>-1.0</td>\n",
              "      <td>-1.0</td>\n",
              "      <td>NaN</td>\n",
              "      <td>-1.0</td>\n",
              "      <td>NaN</td>\n",
              "      <td>-1.0</td>\n",
              "      <td>NaN</td>\n",
              "      <td>1.0</td>\n",
              "      <td>NaN</td>\n",
              "      <td>False</td>\n",
              "      <td>patient00002</td>\n",
              "      <td>study2</td>\n",
              "    </tr>\n",
              "    <tr>\n",
              "      <th>2</th>\n",
              "      <td>CheXpert-v1.0-small/train/patient00002/study1/...</td>\n",
              "      <td>Female</td>\n",
              "      <td>83</td>\n",
              "      <td>Frontal</td>\n",
              "      <td>AP</td>\n",
              "      <td>NaN</td>\n",
              "      <td>NaN</td>\n",
              "      <td>NaN</td>\n",
              "      <td>1.0</td>\n",
              "      <td>NaN</td>\n",
              "      <td>NaN</td>\n",
              "      <td>-1.0</td>\n",
              "      <td>NaN</td>\n",
              "      <td>NaN</td>\n",
              "      <td>NaN</td>\n",
              "      <td>NaN</td>\n",
              "      <td>NaN</td>\n",
              "      <td>1.0</td>\n",
              "      <td>NaN</td>\n",
              "      <td>False</td>\n",
              "      <td>patient00002</td>\n",
              "      <td>study1</td>\n",
              "    </tr>\n",
              "    <tr>\n",
              "      <th>3</th>\n",
              "      <td>CheXpert-v1.0-small/train/patient00002/study1/...</td>\n",
              "      <td>Female</td>\n",
              "      <td>83</td>\n",
              "      <td>Lateral</td>\n",
              "      <td>NaN</td>\n",
              "      <td>NaN</td>\n",
              "      <td>NaN</td>\n",
              "      <td>NaN</td>\n",
              "      <td>1.0</td>\n",
              "      <td>NaN</td>\n",
              "      <td>NaN</td>\n",
              "      <td>-1.0</td>\n",
              "      <td>NaN</td>\n",
              "      <td>NaN</td>\n",
              "      <td>NaN</td>\n",
              "      <td>NaN</td>\n",
              "      <td>NaN</td>\n",
              "      <td>1.0</td>\n",
              "      <td>NaN</td>\n",
              "      <td>False</td>\n",
              "      <td>patient00002</td>\n",
              "      <td>study1</td>\n",
              "    </tr>\n",
              "    <tr>\n",
              "      <th>4</th>\n",
              "      <td>CheXpert-v1.0-small/train/patient00003/study1/...</td>\n",
              "      <td>Male</td>\n",
              "      <td>41</td>\n",
              "      <td>Frontal</td>\n",
              "      <td>AP</td>\n",
              "      <td>NaN</td>\n",
              "      <td>NaN</td>\n",
              "      <td>NaN</td>\n",
              "      <td>NaN</td>\n",
              "      <td>NaN</td>\n",
              "      <td>1.0</td>\n",
              "      <td>NaN</td>\n",
              "      <td>NaN</td>\n",
              "      <td>NaN</td>\n",
              "      <td>0.0</td>\n",
              "      <td>NaN</td>\n",
              "      <td>NaN</td>\n",
              "      <td>NaN</td>\n",
              "      <td>NaN</td>\n",
              "      <td>False</td>\n",
              "      <td>patient00003</td>\n",
              "      <td>study1</td>\n",
              "    </tr>\n",
              "  </tbody>\n",
              "</table>\n",
              "</div>"
            ],
            "text/plain": [
              "                                                Path  ...   study\n",
              "0  CheXpert-v1.0-small/train/patient00001/study1/...  ...  study1\n",
              "1  CheXpert-v1.0-small/train/patient00002/study2/...  ...  study2\n",
              "2  CheXpert-v1.0-small/train/patient00002/study1/...  ...  study1\n",
              "3  CheXpert-v1.0-small/train/patient00002/study1/...  ...  study1\n",
              "4  CheXpert-v1.0-small/train/patient00003/study1/...  ...  study1\n",
              "\n",
              "[5 rows x 22 columns]"
            ]
          },
          "metadata": {
            "tags": []
          },
          "execution_count": 109
        }
      ]
    },
    {
      "cell_type": "code",
      "metadata": {
        "id": "dNE19Yx0D2za",
        "colab_type": "code",
        "colab": {}
      },
      "source": [
        "full_df = pd.concat([full_train_df, full_valid_df])"
      ],
      "execution_count": 0,
      "outputs": []
    },
    {
      "cell_type": "code",
      "metadata": {
        "id": "a4tJHx4PJtJB",
        "colab_type": "code",
        "colab": {}
      },
      "source": [
        "full_df['feature_string'] = full_df.apply(feature_string,axis = 1).fillna('')"
      ],
      "execution_count": 0,
      "outputs": []
    },
    {
      "cell_type": "code",
      "metadata": {
        "id": "jROjIR7LJxO_",
        "colab_type": "code",
        "colab": {
          "base_uri": "https://localhost:8080/",
          "height": 346
        },
        "outputId": "b7a40668-5084-42eb-9fe4-a81a20d6c1a4"
      },
      "source": [
        "full_df.head()"
      ],
      "execution_count": 112,
      "outputs": [
        {
          "output_type": "execute_result",
          "data": {
            "text/html": [
              "<div>\n",
              "<style scoped>\n",
              "    .dataframe tbody tr th:only-of-type {\n",
              "        vertical-align: middle;\n",
              "    }\n",
              "\n",
              "    .dataframe tbody tr th {\n",
              "        vertical-align: top;\n",
              "    }\n",
              "\n",
              "    .dataframe thead th {\n",
              "        text-align: right;\n",
              "    }\n",
              "</style>\n",
              "<table border=\"1\" class=\"dataframe\">\n",
              "  <thead>\n",
              "    <tr style=\"text-align: right;\">\n",
              "      <th></th>\n",
              "      <th>Path</th>\n",
              "      <th>Sex</th>\n",
              "      <th>Age</th>\n",
              "      <th>Frontal/Lateral</th>\n",
              "      <th>AP/PA</th>\n",
              "      <th>No Finding</th>\n",
              "      <th>Enlarged Cardiomediastinum</th>\n",
              "      <th>Cardiomegaly</th>\n",
              "      <th>Lung Opacity</th>\n",
              "      <th>Lung Lesion</th>\n",
              "      <th>Edema</th>\n",
              "      <th>Consolidation</th>\n",
              "      <th>Pneumonia</th>\n",
              "      <th>Atelectasis</th>\n",
              "      <th>Pneumothorax</th>\n",
              "      <th>Pleural Effusion</th>\n",
              "      <th>Pleural Other</th>\n",
              "      <th>Fracture</th>\n",
              "      <th>Support Devices</th>\n",
              "      <th>train_valid</th>\n",
              "      <th>patient</th>\n",
              "      <th>study</th>\n",
              "      <th>feature_string</th>\n",
              "    </tr>\n",
              "  </thead>\n",
              "  <tbody>\n",
              "    <tr>\n",
              "      <th>0</th>\n",
              "      <td>CheXpert-v1.0-small/train/patient00001/study1/...</td>\n",
              "      <td>Female</td>\n",
              "      <td>68</td>\n",
              "      <td>Frontal</td>\n",
              "      <td>AP</td>\n",
              "      <td>1.0</td>\n",
              "      <td>NaN</td>\n",
              "      <td>NaN</td>\n",
              "      <td>NaN</td>\n",
              "      <td>NaN</td>\n",
              "      <td>NaN</td>\n",
              "      <td>NaN</td>\n",
              "      <td>NaN</td>\n",
              "      <td>NaN</td>\n",
              "      <td>0.0</td>\n",
              "      <td>NaN</td>\n",
              "      <td>NaN</td>\n",
              "      <td>NaN</td>\n",
              "      <td>1.0</td>\n",
              "      <td>False</td>\n",
              "      <td>patient00001</td>\n",
              "      <td>study1</td>\n",
              "      <td></td>\n",
              "    </tr>\n",
              "    <tr>\n",
              "      <th>1</th>\n",
              "      <td>CheXpert-v1.0-small/train/patient00002/study2/...</td>\n",
              "      <td>Female</td>\n",
              "      <td>87</td>\n",
              "      <td>Frontal</td>\n",
              "      <td>AP</td>\n",
              "      <td>NaN</td>\n",
              "      <td>NaN</td>\n",
              "      <td>-1.0</td>\n",
              "      <td>1.0</td>\n",
              "      <td>NaN</td>\n",
              "      <td>-1.0</td>\n",
              "      <td>-1.0</td>\n",
              "      <td>NaN</td>\n",
              "      <td>-1.0</td>\n",
              "      <td>NaN</td>\n",
              "      <td>-1.0</td>\n",
              "      <td>NaN</td>\n",
              "      <td>1.0</td>\n",
              "      <td>NaN</td>\n",
              "      <td>False</td>\n",
              "      <td>patient00002</td>\n",
              "      <td>study2</td>\n",
              "      <td>Atelectasis;Edema</td>\n",
              "    </tr>\n",
              "    <tr>\n",
              "      <th>2</th>\n",
              "      <td>CheXpert-v1.0-small/train/patient00002/study1/...</td>\n",
              "      <td>Female</td>\n",
              "      <td>83</td>\n",
              "      <td>Frontal</td>\n",
              "      <td>AP</td>\n",
              "      <td>NaN</td>\n",
              "      <td>NaN</td>\n",
              "      <td>NaN</td>\n",
              "      <td>1.0</td>\n",
              "      <td>NaN</td>\n",
              "      <td>NaN</td>\n",
              "      <td>-1.0</td>\n",
              "      <td>NaN</td>\n",
              "      <td>NaN</td>\n",
              "      <td>NaN</td>\n",
              "      <td>NaN</td>\n",
              "      <td>NaN</td>\n",
              "      <td>1.0</td>\n",
              "      <td>NaN</td>\n",
              "      <td>False</td>\n",
              "      <td>patient00002</td>\n",
              "      <td>study1</td>\n",
              "      <td></td>\n",
              "    </tr>\n",
              "    <tr>\n",
              "      <th>3</th>\n",
              "      <td>CheXpert-v1.0-small/train/patient00002/study1/...</td>\n",
              "      <td>Female</td>\n",
              "      <td>83</td>\n",
              "      <td>Lateral</td>\n",
              "      <td>NaN</td>\n",
              "      <td>NaN</td>\n",
              "      <td>NaN</td>\n",
              "      <td>NaN</td>\n",
              "      <td>1.0</td>\n",
              "      <td>NaN</td>\n",
              "      <td>NaN</td>\n",
              "      <td>-1.0</td>\n",
              "      <td>NaN</td>\n",
              "      <td>NaN</td>\n",
              "      <td>NaN</td>\n",
              "      <td>NaN</td>\n",
              "      <td>NaN</td>\n",
              "      <td>1.0</td>\n",
              "      <td>NaN</td>\n",
              "      <td>False</td>\n",
              "      <td>patient00002</td>\n",
              "      <td>study1</td>\n",
              "      <td></td>\n",
              "    </tr>\n",
              "    <tr>\n",
              "      <th>4</th>\n",
              "      <td>CheXpert-v1.0-small/train/patient00003/study1/...</td>\n",
              "      <td>Male</td>\n",
              "      <td>41</td>\n",
              "      <td>Frontal</td>\n",
              "      <td>AP</td>\n",
              "      <td>NaN</td>\n",
              "      <td>NaN</td>\n",
              "      <td>NaN</td>\n",
              "      <td>NaN</td>\n",
              "      <td>NaN</td>\n",
              "      <td>1.0</td>\n",
              "      <td>NaN</td>\n",
              "      <td>NaN</td>\n",
              "      <td>NaN</td>\n",
              "      <td>0.0</td>\n",
              "      <td>NaN</td>\n",
              "      <td>NaN</td>\n",
              "      <td>NaN</td>\n",
              "      <td>NaN</td>\n",
              "      <td>False</td>\n",
              "      <td>patient00003</td>\n",
              "      <td>study1</td>\n",
              "      <td>Edema</td>\n",
              "    </tr>\n",
              "  </tbody>\n",
              "</table>\n",
              "</div>"
            ],
            "text/plain": [
              "                                                Path  ...     feature_string\n",
              "0  CheXpert-v1.0-small/train/patient00001/study1/...  ...                   \n",
              "1  CheXpert-v1.0-small/train/patient00002/study2/...  ...  Atelectasis;Edema\n",
              "2  CheXpert-v1.0-small/train/patient00002/study1/...  ...                   \n",
              "3  CheXpert-v1.0-small/train/patient00002/study1/...  ...                   \n",
              "4  CheXpert-v1.0-small/train/patient00003/study1/...  ...              Edema\n",
              "\n",
              "[5 rows x 23 columns]"
            ]
          },
          "metadata": {
            "tags": []
          },
          "execution_count": 112
        }
      ]
    },
    {
      "cell_type": "markdown",
      "metadata": {
        "id": "SaXzVchjWxxW",
        "colab_type": "text"
      },
      "source": [
        "**Set up data set using Fastai datablock**"
      ]
    },
    {
      "cell_type": "code",
      "metadata": {
        "id": "HPE2DGTFLKPl",
        "colab_type": "code",
        "colab": {}
      },
      "source": [
        "def get_src(df = full_df):\n",
        "    return (ImageList\n",
        "        .from_df(df, data_path, 'Path')\n",
        "        .split_from_df('train_valid')\n",
        "        .label_from_df('feature_string',label_delim=';')\n",
        "       )\n",
        "\n",
        "def get_data(size, src, bs=32):\n",
        "    return (src.transform(get_transforms(do_flip=False), size=size, padding_mode='zeros')\n",
        "        .databunch(bs=bs).normalize(imagenet_stats))"
      ],
      "execution_count": 0,
      "outputs": []
    },
    {
      "cell_type": "code",
      "metadata": {
        "id": "JjnM-aPsWPEk",
        "colab_type": "code",
        "colab": {}
      },
      "source": [
        "\n",
        "# x = ImageList.from_df(full_df, data_path, 'Path').split_from_df('train_valid').label_from_df('feature_string',label_delim=';')"
      ],
      "execution_count": 0,
      "outputs": []
    },
    {
      "cell_type": "code",
      "metadata": {
        "id": "V-9n2sd4WR7Z",
        "colab_type": "code",
        "colab": {}
      },
      "source": [
        "# x.transform(get_transforms(do_flip=False), size=224, padding_mode='zeros').databunch(bs=34).normalize(imagenet_stats)"
      ],
      "execution_count": 0,
      "outputs": []
    },
    {
      "cell_type": "markdown",
      "metadata": {
        "id": "JdjtR4XHr7L3",
        "colab_type": "text"
      },
      "source": [
        "**Create a function to evaluate performance of all features**"
      ]
    },
    {
      "cell_type": "code",
      "metadata": {
        "id": "AZfKlDSLY20n",
        "colab_type": "code",
        "colab": {}
      },
      "source": [
        "def validation_eval(learn):\n",
        "    acts = full_valid_df.groupby(['patient','study'])[learn.data.classes].max().values\n",
        "\n",
        "    valid_preds=learn.get_preds(ds_type=DatasetType.Valid)\n",
        "    preds = valid_preds[0]\n",
        "    preds_df = full_valid_df.copy()\n",
        "    \n",
        "    print(len(full_valid_df), len(preds))\n",
        "    for i, c in enumerate(learn.data.classes):\n",
        "        preds_df[c] = preds[:,i]\n",
        "\n",
        "    preds = preds_df.groupby(['patient','study'])[learn.data.classes].mean().values\n",
        "\n",
        "    auc_scores = {learn.data.classes[i]: roc_auc_score(acts[:,i],preds[:,i]) for i in range(len(chexpert_targets))}\n",
        "\n",
        "    #average results reported in the associated paper\n",
        "    chexpert_auc_scores = {'Atelectasis':      0.858,\n",
        "                           'Cardiomegaly':     0.854,\n",
        "                           'Consolidation':    0.939,\n",
        "                           'Edema':            0.941,\n",
        "                           'Pleural Effusion': 0.936}\n",
        "\n",
        "    max_feat_len = max(map(len, chexpert_targets))\n",
        "\n",
        "    avg_chexpert_auc = sum(list(chexpert_auc_scores.values()))/len(chexpert_auc_scores.values())\n",
        "    avg_auc          = sum(list(auc_scores.values()))/len(auc_scores.values())\n",
        "\n",
        "    [print(f'{k: <{max_feat_len}}\\t auc: {auc_scores[k]:.3}\\t chexpert auc: {chexpert_auc_scores[k]:.3}\\t difference:\\\n",
        "    {(chexpert_auc_scores[k]-auc_scores[k]):.3}') for k in chexpert_targets]\n",
        "\n",
        "    print(f'\\nAverage auc: {avg_auc:.3} \\t CheXpert average auc {avg_chexpert_auc:.3}\\t Difference {(avg_chexpert_auc-avg_auc):.3}')\n",
        "\n",
        "def avg_auc_metric(input, targs):\n",
        "    input=input.detach().cpu()\n",
        "    targs=targs.detach().cpu().byte()\n",
        "    auc_scores = [roc_auc_score(targs[:,i],input[:,i]) for i in range(targs.shape[1])]\n",
        "    auc_scores = torch.tensor(auc_scores)\n",
        "    return auc_scores.mean()"
      ],
      "execution_count": 0,
      "outputs": []
    },
    {
      "cell_type": "markdown",
      "metadata": {
        "id": "5lhwM2aissdl",
        "colab_type": "text"
      },
      "source": [
        "**Create callbacks to evaluate and save learner**"
      ]
    },
    {
      "cell_type": "code",
      "metadata": {
        "id": "85k41-xur8EI",
        "colab_type": "code",
        "colab": {}
      },
      "source": [
        "class SaveCallback(LearnerCallback):\n",
        "    _order = 99\n",
        "    def __init__(self, learn):\n",
        "        super().__init__(learn)\n",
        "        self.epoch = 0\n",
        "        self.skip = False\n",
        "    def on_epoch_end(self, **kwargs):\n",
        "        self.epoch += 1\n",
        "        if self.skip: return\n",
        "        learn.save(f'{datetime.datetime.now():%Y-%m-%d %H:%M}')\n"
      ],
      "execution_count": 0,
      "outputs": []
    },
    {
      "cell_type": "code",
      "metadata": {
        "id": "3rbImsAfsNfb",
        "colab_type": "code",
        "colab": {}
      },
      "source": [
        "\n",
        "def get_chexpert_learner(learn=None, img_size=320, size=1, mixup=True, pretrained=True, callback_fns=[]):\n",
        "    bs = 256\n",
        "    data = get_data(img_size, get_src(full_df(size)), bs=bs)\n",
        "    learn = cnn_learner(data, models.densenet121, callback_fns=callback_fns, pretrained=pretrained, metrics=avg_auc_metric).mixup(stack_y=False)\n",
        "    return learn"
      ],
      "execution_count": 0,
      "outputs": []
    },
    {
      "cell_type": "markdown",
      "metadata": {
        "id": "EcDpWXMNs5a1",
        "colab_type": "text"
      },
      "source": [
        "**Alter LR_Finder to remove my callbacks before running**"
      ]
    },
    {
      "cell_type": "code",
      "metadata": {
        "id": "pK9slnMHsehZ",
        "colab_type": "code",
        "colab": {}
      },
      "source": [
        "cbfs = [SaveCallback]\n",
        "def lr_find_no_cbs(learn):\n",
        "    learn.callback_fns = [cbf for cbf in learn.callback_fns if cbf not in cbfs]\n",
        "    lr_find(learn)\n",
        "    learn.recorder.plot(suggestion=True)\n",
        "    learn.callback_fns += cbfs"
      ],
      "execution_count": 0,
      "outputs": []
    },
    {
      "cell_type": "code",
      "metadata": {
        "id": "ET-LcPOzAbNU",
        "colab_type": "code",
        "colab": {}
      },
      "source": [
        "# ls"
      ],
      "execution_count": 0,
      "outputs": []
    },
    {
      "cell_type": "code",
      "metadata": {
        "id": "lYqWS0lBAEHv",
        "colab_type": "code",
        "colab": {
          "base_uri": "https://localhost:8080/",
          "height": 63
        },
        "outputId": "9919e213-b44a-4112-df0f-154510a6d817"
      },
      "source": [
        "mv colab CheXpert-v1.0-small"
      ],
      "execution_count": 121,
      "outputs": [
        {
          "output_type": "stream",
          "text": [
            "mv: cannot stat 'colab': No such file or directory\n"
          ],
          "name": "stdout"
        }
      ]
    },
    {
      "cell_type": "code",
      "metadata": {
        "id": "Ozvck3khBwR8",
        "colab_type": "code",
        "colab": {
          "base_uri": "https://localhost:8080/",
          "height": 34
        },
        "outputId": "a0e80c7d-8ff6-49ff-9e92-fb6b84b8dfae"
      },
      "source": [
        "pwd"
      ],
      "execution_count": 122,
      "outputs": [
        {
          "output_type": "execute_result",
          "data": {
            "text/plain": [
              "'/content'"
            ]
          },
          "metadata": {
            "tags": []
          },
          "execution_count": 122
        }
      ]
    },
    {
      "cell_type": "code",
      "metadata": {
        "id": "cPB5ToqnBzdj",
        "colab_type": "code",
        "colab": {
          "base_uri": "https://localhost:8080/",
          "height": 34
        },
        "outputId": "f050c930-6288-4b01-99df-f31b483edfdb"
      },
      "source": [
        "# cd content"
      ],
      "execution_count": 126,
      "outputs": [
        {
          "output_type": "stream",
          "text": [
            "/content\n"
          ],
          "name": "stdout"
        }
      ]
    },
    {
      "cell_type": "code",
      "metadata": {
        "id": "RjShSbX1bbO3",
        "colab_type": "code",
        "colab": {}
      },
      "source": [
        "df_names = os.listdir('./data/CheXpert-v1.0-small/train/')"
      ],
      "execution_count": 0,
      "outputs": []
    },
    {
      "cell_type": "code",
      "metadata": {
        "id": "NmdQNAD0a5gF",
        "colab_type": "code",
        "colab": {}
      },
      "source": [
        "names_fulldf = [('').join(item.split('/')[-3:]) for item in full_df['Path'].tolist()]"
      ],
      "execution_count": 0,
      "outputs": []
    },
    {
      "cell_type": "code",
      "metadata": {
        "id": "b0cj4P7iGtxV",
        "colab_type": "code",
        "colab": {
          "base_uri": "https://localhost:8080/",
          "height": 119
        },
        "outputId": "ec1be9b8-d34f-4095-892b-4c9c2bfbbd42"
      },
      "source": [
        "full_valid_df['Path'][:5]"
      ],
      "execution_count": 75,
      "outputs": [
        {
          "output_type": "execute_result",
          "data": {
            "text/plain": [
              "0    CheXpert-v1.0-small/valid/patient64541/study1/...\n",
              "1    CheXpert-v1.0-small/valid/patient64542/study1/...\n",
              "2    CheXpert-v1.0-small/valid/patient64542/study1/...\n",
              "3    CheXpert-v1.0-small/valid/patient64543/study1/...\n",
              "4    CheXpert-v1.0-small/valid/patient64544/study1/...\n",
              "Name: Path, dtype: object"
            ]
          },
          "metadata": {
            "tags": []
          },
          "execution_count": 75
        }
      ]
    },
    {
      "cell_type": "code",
      "metadata": {
        "id": "3fHpckMkGt2F",
        "colab_type": "code",
        "colab": {}
      },
      "source": [
        "# val_df = os.listdir('./data/CheXpert-v1.0-small/valid/patient64541/study1/view1_frontal.jpg')"
      ],
      "execution_count": 0,
      "outputs": []
    },
    {
      "cell_type": "code",
      "metadata": {
        "id": "1LieRdMJGt77",
        "colab_type": "code",
        "colab": {}
      },
      "source": [
        "# val_df[:5]"
      ],
      "execution_count": 0,
      "outputs": []
    },
    {
      "cell_type": "code",
      "metadata": {
        "id": "LBFrDCH7Gt0B",
        "colab_type": "code",
        "colab": {}
      },
      "source": [
        "# names_valdf = [('').join(item.split('/')[-3:4]) for item in full_valid_df['Path'].tolist()]"
      ],
      "execution_count": 0,
      "outputs": []
    },
    {
      "cell_type": "code",
      "metadata": {
        "id": "X-AL_8vaH7Hh",
        "colab_type": "code",
        "colab": {}
      },
      "source": [
        "# names_valdf[:5]"
      ],
      "execution_count": 0,
      "outputs": []
    },
    {
      "cell_type": "code",
      "metadata": {
        "id": "lUf8R1z8H7Ki",
        "colab_type": "code",
        "colab": {}
      },
      "source": [
        ""
      ],
      "execution_count": 0,
      "outputs": []
    },
    {
      "cell_type": "code",
      "metadata": {
        "id": "qb6p6uozgdn1",
        "colab_type": "code",
        "colab": {}
      },
      "source": [
        "ls=[]\n",
        "for item in df_names:\n",
        "  if item in names_fulldf:\n",
        "    ls.append(names_fulldf.index(item))"
      ],
      "execution_count": 0,
      "outputs": []
    },
    {
      "cell_type": "code",
      "metadata": {
        "id": "8q_T0I5IiUDi",
        "colab_type": "code",
        "colab": {
          "base_uri": "https://localhost:8080/",
          "height": 187
        },
        "outputId": "679f6c50-04bb-4fcc-8ebf-bb3d8e8cc0d7"
      },
      "source": [
        "df_names[:10]"
      ],
      "execution_count": 50,
      "outputs": [
        {
          "output_type": "execute_result",
          "data": {
            "text/plain": [
              "['patient01545study6view1_frontal.jpg',\n",
              " 'patient00343study1view1_frontal.jpg',\n",
              " 'patient02279study1view1_frontal.jpg',\n",
              " 'patient00408study4view1_frontal.jpg',\n",
              " 'patient01172study1view1_frontal.jpg',\n",
              " 'patient01247study6view2_lateral.jpg',\n",
              " 'patient00179study1view1_frontal.jpg',\n",
              " 'patient01071study24view1_frontal.jpg',\n",
              " 'patient02129study4view1_frontal.jpg',\n",
              " 'patient02476study12view1_frontal.jpg']"
            ]
          },
          "metadata": {
            "tags": []
          },
          "execution_count": 50
        }
      ]
    },
    {
      "cell_type": "code",
      "metadata": {
        "id": "u3ztPwWvkLA0",
        "colab_type": "code",
        "colab": {}
      },
      "source": [
        "names_ = ['CheXpert-v1.0-small/train/'+name for name in df_names]"
      ],
      "execution_count": 0,
      "outputs": []
    },
    {
      "cell_type": "code",
      "metadata": {
        "id": "1I726T9miUGM",
        "colab_type": "code",
        "colab": {}
      },
      "source": [
        "full_df = full_df.iloc[ls]"
      ],
      "execution_count": 0,
      "outputs": []
    },
    {
      "cell_type": "code",
      "metadata": {
        "id": "Gpihf9Tfkc-N",
        "colab_type": "code",
        "colab": {}
      },
      "source": [
        "full_df['Path'] = names_"
      ],
      "execution_count": 0,
      "outputs": []
    },
    {
      "cell_type": "code",
      "metadata": {
        "id": "NJqeJBQMkdAw",
        "colab_type": "code",
        "colab": {
          "base_uri": "https://localhost:8080/",
          "height": 187
        },
        "outputId": "e65b9857-7a8b-4571-b03e-3867d1bc0c53"
      },
      "source": [
        "full_df['Path'].tolist()[:10]"
      ],
      "execution_count": 55,
      "outputs": [
        {
          "output_type": "execute_result",
          "data": {
            "text/plain": [
              "['CheXpert-v1.0-small/train/patient01545study6view1_frontal.jpg',\n",
              " 'CheXpert-v1.0-small/train/patient00343study1view1_frontal.jpg',\n",
              " 'CheXpert-v1.0-small/train/patient02279study1view1_frontal.jpg',\n",
              " 'CheXpert-v1.0-small/train/patient00408study4view1_frontal.jpg',\n",
              " 'CheXpert-v1.0-small/train/patient01172study1view1_frontal.jpg',\n",
              " 'CheXpert-v1.0-small/train/patient01247study6view2_lateral.jpg',\n",
              " 'CheXpert-v1.0-small/train/patient00179study1view1_frontal.jpg',\n",
              " 'CheXpert-v1.0-small/train/patient01071study24view1_frontal.jpg',\n",
              " 'CheXpert-v1.0-small/train/patient02129study4view1_frontal.jpg',\n",
              " 'CheXpert-v1.0-small/train/patient02476study12view1_frontal.jpg']"
            ]
          },
          "metadata": {
            "tags": []
          },
          "execution_count": 55
        }
      ]
    },
    {
      "cell_type": "code",
      "metadata": {
        "id": "xIYbAmTBMGJU",
        "colab_type": "code",
        "colab": {
          "base_uri": "https://localhost:8080/",
          "height": 34
        },
        "outputId": "25ccca9a-8588-4fe2-8a73-b725e4bcea16"
      },
      "source": [
        "full_df['train_valid'].unique()"
      ],
      "execution_count": 133,
      "outputs": [
        {
          "output_type": "execute_result",
          "data": {
            "text/plain": [
              "array([False])"
            ]
          },
          "metadata": {
            "tags": []
          },
          "execution_count": 133
        }
      ]
    },
    {
      "cell_type": "code",
      "metadata": {
        "id": "ZAjzyj1oGgoq",
        "colab_type": "code",
        "colab": {}
      },
      "source": [
        "full_df = pd.concat([full_df, full_valid_df])"
      ],
      "execution_count": 0,
      "outputs": []
    },
    {
      "cell_type": "code",
      "metadata": {
        "id": "OzhpZDLnJHSx",
        "colab_type": "code",
        "colab": {}
      },
      "source": [
        "full_df['feature_string'] = full_df.apply(feature_string,axis = 1).fillna('')"
      ],
      "execution_count": 0,
      "outputs": []
    },
    {
      "cell_type": "code",
      "metadata": {
        "id": "603i7u2jJHVi",
        "colab_type": "code",
        "colab": {}
      },
      "source": [
        ""
      ],
      "execution_count": 0,
      "outputs": []
    },
    {
      "cell_type": "markdown",
      "metadata": {
        "id": "d9x8wvGYtD87",
        "colab_type": "text"
      },
      "source": [
        "**Train on sample set on small images**"
      ]
    },
    {
      "cell_type": "code",
      "metadata": {
        "id": "_kso8ElWs9Rd",
        "colab_type": "code",
        "colab": {}
      },
      "source": [
        "img_size = 64\n",
        "data = get_data(img_size, get_src(full_df), bs=40)\n",
        "learn = cnn_learner(data, models.vgg16_bn, callback_fns=cbfs)"
      ],
      "execution_count": 0,
      "outputs": []
    },
    {
      "cell_type": "code",
      "metadata": {
        "id": "ZJP55fM6l7JY",
        "colab_type": "code",
        "colab": {}
      },
      "source": [
        "# learn.summary()"
      ],
      "execution_count": 0,
      "outputs": []
    },
    {
      "cell_type": "code",
      "metadata": {
        "id": "mdhNoSg2tHk7",
        "colab_type": "code",
        "colab": {
          "base_uri": "https://localhost:8080/",
          "height": 95
        },
        "outputId": "ac62a2ea-a385-4b90-83cf-c46d2eb938b9"
      },
      "source": [
        "lr = 1e-5\n",
        "learn.fit_one_cycle(1,slice(lr))"
      ],
      "execution_count": 150,
      "outputs": [
        {
          "output_type": "display_data",
          "data": {
            "text/html": [
              "<table border=\"1\" class=\"dataframe\">\n",
              "  <thead>\n",
              "    <tr style=\"text-align: left;\">\n",
              "      <th>epoch</th>\n",
              "      <th>train_loss</th>\n",
              "      <th>valid_loss</th>\n",
              "      <th>time</th>\n",
              "    </tr>\n",
              "  </thead>\n",
              "  <tbody>\n",
              "    <tr>\n",
              "      <td>0</td>\n",
              "      <td>0.820675</td>\n",
              "      <td>0.753742</td>\n",
              "      <td>00:39</td>\n",
              "    </tr>\n",
              "  </tbody>\n",
              "</table>"
            ],
            "text/plain": [
              "<IPython.core.display.HTML object>"
            ]
          },
          "metadata": {
            "tags": []
          }
        }
      ]
    },
    {
      "cell_type": "code",
      "metadata": {
        "id": "ZdZbbnWHJe4U",
        "colab_type": "code",
        "colab": {}
      },
      "source": [
        ""
      ],
      "execution_count": 0,
      "outputs": []
    },
    {
      "cell_type": "code",
      "metadata": {
        "id": "GJPjhTWrtX35",
        "colab_type": "code",
        "colab": {
          "base_uri": "https://localhost:8080/",
          "height": 153
        },
        "outputId": "6378b332-71df-4ef0-d8df-4a05543f7888"
      },
      "source": [
        "validation_eval(learn)"
      ],
      "execution_count": 151,
      "outputs": [
        {
          "output_type": "stream",
          "text": [
            "234 234\n",
            "Atelectasis     \t auc: 0.466\t chexpert auc: 0.858\t difference:    0.392\n",
            "Cardiomegaly    \t auc: 0.426\t chexpert auc: 0.854\t difference:    0.428\n",
            "Consolidation   \t auc: 0.406\t chexpert auc: 0.939\t difference:    0.533\n",
            "Edema           \t auc: 0.617\t chexpert auc: 0.941\t difference:    0.324\n",
            "Pleural Effusion\t auc: 0.477\t chexpert auc: 0.936\t difference:    0.459\n",
            "\n",
            "Average auc: 0.479 \t CheXpert average auc 0.906\t Difference 0.427\n"
          ],
          "name": "stdout"
        }
      ]
    },
    {
      "cell_type": "code",
      "metadata": {
        "id": "Zq-qGwmyMq4K",
        "colab_type": "code",
        "colab": {
          "base_uri": "https://localhost:8080/",
          "height": 317
        },
        "outputId": "ef4050c8-1c48-4dce-ed1e-0077f1ad57d5"
      },
      "source": [
        "lr_find_no_cbs(learn)"
      ],
      "execution_count": 168,
      "outputs": [
        {
          "output_type": "display_data",
          "data": {
            "text/html": [
              ""
            ],
            "text/plain": [
              "<IPython.core.display.HTML object>"
            ]
          },
          "metadata": {
            "tags": []
          }
        },
        {
          "output_type": "stream",
          "text": [
            "LR Finder is complete, type {learner_name}.recorder.plot() to see the graph.\n",
            "Min numerical gradient: 1.91E-02\n"
          ],
          "name": "stdout"
        },
        {
          "output_type": "display_data",
          "data": {
            "image/png": "[encoded data removed]",
            "text/plain": [
              "<Figure size 432x288 with 1 Axes>"
            ]
          },
          "metadata": {
            "tags": []
          }
        }
      ]
    },
    {
      "cell_type": "code",
      "metadata": {
        "id": "1G2tA2edtcVG",
        "colab_type": "code",
        "colab": {}
      },
      "source": [
        "# learn = get_chexpert_learner(learn=learn, img_size=128, size=1)\n",
        "# lr_find_no_cbs(learn)"
      ],
      "execution_count": 0,
      "outputs": []
    },
    {
      "cell_type": "code",
      "metadata": {
        "id": "xwCCyA01tfpS",
        "colab_type": "code",
        "colab": {
          "base_uri": "https://localhost:8080/",
          "height": 374
        },
        "outputId": "c89719c4-d708-4ae8-9305-ce1d35d90f7a"
      },
      "source": [
        "lr = 1.91E-02\n",
        "learn.fit_one_cycle(10,slice(lr))"
      ],
      "execution_count": 170,
      "outputs": [
        {
          "output_type": "display_data",
          "data": {
            "text/html": [
              "<table border=\"1\" class=\"dataframe\">\n",
              "  <thead>\n",
              "    <tr style=\"text-align: left;\">\n",
              "      <th>epoch</th>\n",
              "      <th>train_loss</th>\n",
              "      <th>valid_loss</th>\n",
              "      <th>time</th>\n",
              "    </tr>\n",
              "  </thead>\n",
              "  <tbody>\n",
              "    <tr>\n",
              "      <td>0</td>\n",
              "      <td>0.490752</td>\n",
              "      <td>0.536411</td>\n",
              "      <td>00:41</td>\n",
              "    </tr>\n",
              "    <tr>\n",
              "      <td>1</td>\n",
              "      <td>0.473616</td>\n",
              "      <td>0.524947</td>\n",
              "      <td>00:41</td>\n",
              "    </tr>\n",
              "    <tr>\n",
              "      <td>2</td>\n",
              "      <td>0.452512</td>\n",
              "      <td>0.530567</td>\n",
              "      <td>00:41</td>\n",
              "    </tr>\n",
              "    <tr>\n",
              "      <td>3</td>\n",
              "      <td>0.439171</td>\n",
              "      <td>0.528451</td>\n",
              "      <td>00:40</td>\n",
              "    </tr>\n",
              "    <tr>\n",
              "      <td>4</td>\n",
              "      <td>0.433088</td>\n",
              "      <td>0.524311</td>\n",
              "      <td>00:40</td>\n",
              "    </tr>\n",
              "    <tr>\n",
              "      <td>5</td>\n",
              "      <td>0.427607</td>\n",
              "      <td>0.475714</td>\n",
              "      <td>00:40</td>\n",
              "    </tr>\n",
              "    <tr>\n",
              "      <td>6</td>\n",
              "      <td>0.416479</td>\n",
              "      <td>0.475797</td>\n",
              "      <td>00:40</td>\n",
              "    </tr>\n",
              "    <tr>\n",
              "      <td>7</td>\n",
              "      <td>0.411647</td>\n",
              "      <td>0.473525</td>\n",
              "      <td>00:40</td>\n",
              "    </tr>\n",
              "    <tr>\n",
              "      <td>8</td>\n",
              "      <td>0.401732</td>\n",
              "      <td>0.466118</td>\n",
              "      <td>00:40</td>\n",
              "    </tr>\n",
              "    <tr>\n",
              "      <td>9</td>\n",
              "      <td>0.398893</td>\n",
              "      <td>0.469247</td>\n",
              "      <td>00:41</td>\n",
              "    </tr>\n",
              "  </tbody>\n",
              "</table>"
            ],
            "text/plain": [
              "<IPython.core.display.HTML object>"
            ]
          },
          "metadata": {
            "tags": []
          }
        }
      ]
    },
    {
      "cell_type": "code",
      "metadata": {
        "id": "f2AyXUsmti0T",
        "colab_type": "code",
        "colab": {
          "base_uri": "https://localhost:8080/",
          "height": 153
        },
        "outputId": "d4d1c47b-1929-4c7e-8858-ecf00d8e3150"
      },
      "source": [
        "validation_eval(learn)"
      ],
      "execution_count": 171,
      "outputs": [
        {
          "output_type": "stream",
          "text": [
            "234 234\n",
            "Atelectasis     \t auc: 0.787\t chexpert auc: 0.858\t difference:    0.0706\n",
            "Cardiomegaly    \t auc: 0.758\t chexpert auc: 0.854\t difference:    0.0962\n",
            "Consolidation   \t auc: 0.877\t chexpert auc: 0.939\t difference:    0.0623\n",
            "Edema           \t auc: 0.859\t chexpert auc: 0.941\t difference:    0.0816\n",
            "Pleural Effusion\t auc: 0.852\t chexpert auc: 0.936\t difference:    0.0844\n",
            "\n",
            "Average auc: 0.827 \t CheXpert average auc 0.906\t Difference 0.079\n"
          ],
          "name": "stdout"
        }
      ]
    },
    {
      "cell_type": "code",
      "metadata": {
        "id": "FpMnoa-Pt2lL",
        "colab_type": "code",
        "colab": {}
      },
      "source": [
        "lr_find_no_cbs(learn)"
      ],
      "execution_count": 0,
      "outputs": []
    },
    {
      "cell_type": "code",
      "metadata": {
        "id": "qUo77mL9t5n-",
        "colab_type": "code",
        "colab": {}
      },
      "source": [
        ""
      ],
      "execution_count": 0,
      "outputs": []
    },
    {
      "cell_type": "code",
      "metadata": {
        "id": "qF1K61Vwt-XT",
        "colab_type": "code",
        "colab": {}
      },
      "source": [
        ""
      ],
      "execution_count": 0,
      "outputs": []
    },
    {
      "cell_type": "markdown",
      "metadata": {
        "id": "uJzqasYIt_Bw",
        "colab_type": "text"
      },
      "source": [
        "**Things to try to improve score**\n",
        "\n",
        "Building more sophisticated model structure to account for unknowns\n",
        "\n",
        "Curriculum learning\n",
        "\n",
        "Mixup\n",
        "\n",
        "(not really possible) Use the labelling tool from the ChexPert paper : https://github.com/stanfordmlgroup/chexpert-labeler\n",
        "\\"
      ]
    },
    {
      "cell_type": "code",
      "metadata": {
        "id": "A7lOH18muJkW",
        "colab_type": "code",
        "colab": {}
      },
      "source": [
        ""
      ],
      "execution_count": 0,
      "outputs": []
    }
  ]
}